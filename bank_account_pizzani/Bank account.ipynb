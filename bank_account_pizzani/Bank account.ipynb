{
 "cells": [
  {
   "cell_type": "code",
   "execution_count": 6,
   "metadata": {},
   "outputs": [],
   "source": [
    "import datetime\n",
    "import pandas as pd\n",
    "\n",
    "\n",
    "class Client:\n",
    "    \"\"\" This Class input Bank's clients.\n",
    "        \n",
    "        Attributes:\n",
    "            client_name (string) represents clients name.\n",
    "            age (int) represents client's age.\n",
    "            balance (float) represents client's initially balance.\n",
    "            client_id (int) represents client identification.\n",
    "            client_joindate (datetime) represent time when the client account was created with established format Y M D\n",
    "            client_joindate2 (datetime) represent time when the client account was created in days.\n",
    "            \n",
    "        \"\"\"\n",
    "\n",
    "    def __init__(self, client_name =\"Test\", age=0, balance=0,joindate=datetime.datetime.now().strftime('%Y-%m-%d %H:%M:%S'),joindate2= datetime.datetime.now()):\n",
    "        # Lists of clients's data.\n",
    "        self.client_id = [0]\n",
    "        self.client_name = [client_name]\n",
    "        self.age = [age]\n",
    "        self.balance = [balance]\n",
    "        self.joindate = [joindate]\n",
    "        self.joindate2 = [joindate2]\n",
    "        \n",
    "\n",
    "        \n",
    "    def add_client(self,client_name,age,balance,joindate=datetime.datetime.now().strftime('%Y-%m-%d %H:%M:%S'),joindate2=datetime.datetime.now()):\n",
    "        \"\"\" Function to add new clients atributes to the Class object.\n",
    "        \n",
    "        Attributes:\n",
    "            client_joindate (datetime) represent time when the client account was created with established format Y M D\n",
    "            client_joindate2 (datetime) represent time when the client account was created in days.\n",
    "        \n",
    "        \n",
    "        Args:\n",
    "            client_name (sting): The new client's name\n",
    "            age (int): the new client's age\n",
    "            balance (float): The new client's account balance.\n",
    "            \n",
    "        Returns:\n",
    "            None\n",
    "            \n",
    "        \"\"\"        \n",
    "        \n",
    "        # Adding plus 1 to the index of client's ID.\\n\",\n",
    "        self.client_id.append(self.client_id[-1] + 1)\n",
    "        \n",
    "        self.client_name.append(client_name)\n",
    "        self.age.append(age)\n",
    "        self.balance.append(balance)\n",
    "        self.joindate.append(joindate)\n",
    "        self.joindate2.append(joindate2)\n",
    "        \n",
    "    def read_csv(self,file,joindate=datetime.datetime.now().strftime('%Y-%m-%d %H:%M:%S'),joindate2=datetime.datetime.now()):\n",
    "        \"\"\"Function to add new clients atributes to the Class object through a CSV file without header.\n",
    "    \"        \n",
    "    \"        Attributes:\n",
    "    \"            client_joindate (datetime) represent time when the client account was created with established format Y M D\\n\",\n",
    "    \"            client_joindate2 (datetime) represent time when the client account was created in days.\n",
    "    \"            data (data) extarcted form the \"file\" data.\n",
    "    \"        \n",
    "    \"        \n",
    "    \"        Args:\n",
    "    \"            file (csv, data list): A CSV file that contains client_name, age and balance\n",
    "    \"            \n",
    "    \"        Returns:\n",
    "                    None \n",
    "                    \"\"\"\n",
    "        # reads the csv file.\n",
    "        self.data = pd.read_csv(file,header=None)\n",
    "        \n",
    "        # Range to calculate client ID from the length of the data set.\n",
    "        self.client_id = [x for x in range(0,len(self.data))]\n",
    "        \n",
    "         # Data from the three columns in the CSV file.\n",
    "        self.client_name = self.data[0].values.tolist()\n",
    "        self.age = self.data[1].values.tolist()\n",
    "        self.balance = self.data[2].values.tolist()\n",
    "        \n",
    "        # Set Time the clients were added to the Class.\n",
    "        self.joindate = [joindate for x in range(len(self.data))]\n",
    "        self.joindate2 = [joindate2 for x in range(len(self.data))]\n",
    "        "
   ]
  },
  {
   "cell_type": "code",
   "execution_count": 17,
   "metadata": {},
   "outputs": [],
   "source": [
    "import pandas as pd\n",
    "import seaborn as sns\n",
    "import numpy as np\n",
    "import datetime\n",
    "from sklearn.linear_model import LinearRegression\n",
    "\n",
    "class Account(Client):\n",
    "    \"\"\"Class for manage client's balance, establish different types of clients and accounts, charge and apply interest.\\n\",\n",
    "    \"        \n",
    "    \"        Attributes\n",
    "    \"            client_name (string) represents clients name.\n",
    "    \"            age (int) represents client's age.\n",
    "    \"            balance (float) represents client's initially balance.\n",
    "    \"            client_id (int) represents client identification.\n",
    "    \"            client_joindate (datetime) represent time when the client account was created with established format Y/M/D.\n",
    "    \"            client_joindate2 (datetime) represent time when the client account was created in days.\n",
    "    \"            account_category (list of strings) represents the kind of account depending on the account time.\n",
    "    \"            client_category (list of strings) represents the type of client depending on their age.\n",
    "        \"\"\"\n",
    "    def __init__(self):\n",
    "        Client.__init__(self)\n",
    "        self.account_category = []\n",
    "        self.client_category = []\n",
    "        \n",
    "    def add_balance(self,client_id,balance):\n",
    "        \"\"\"  Function to sum new balance to a specific client ID.\n",
    "    \"        \n",
    "    \"        Args:\n",
    "    \"            client_id (int) represents the client identification number.\n",
    "    \"            \n",
    "    \"        Returns:\n",
    "    \"            int: The new client's balance\n",
    "    \"            \n",
    "    \"        \"\"\"\n",
    "        if client_id not in range(1,len(self.client_id)):\n",
    "            return \"Clinet_ID do not found, check your client ID again\"\n",
    "        else:\n",
    "            self.balance[client_id] += balance\n",
    "    \n",
    "    def set_client_category(self):\n",
    "        \"\"\"  Function to set the client'scategory type depending on their age.\n",
    "    \"        \n",
    "    \"        Args:\n",
    "    \"            None\n",
    "    \"            \n",
    "    \"        Returns:\n",
    "    \"            None\n",
    "    \"            \n",
    "    \"        \"\"\"\n",
    "        for i in self.client_id:\n",
    "            if self.age[i] > 50:\n",
    "                self.client_category.append(\"Senior\")\n",
    "            elif self.age[i] <= 25:\n",
    "                self.client_category.append(\"Junior\")\n",
    "            else:\n",
    "                self.client_category.append(\"Regular\")\n",
    "    def set_account_category(self):\n",
    "        \"\"\"  Function to set the account 'scategory type depending on their creation date.\n",
    "    \"        \n",
    "    \"        Args:\n",
    "    \"            None\n",
    "    \"            \n",
    "    \"        Returns:\n",
    "    \"            None\n",
    "    \"            \n",
    "    \"        \"\"\"\n",
    "        # Add to the list in order whether their joindate and current date is higher than 300 days as Premium clients.\n",
    "        for i in self.client_id:\n",
    "            if (datetime.datetime.now() - self.joindate2[i] ).days > 300:\n",
    "                self.account_category.append(\"Premium\")\n",
    "            else:\n",
    "                self.account_category.append(\"Standard\")\n",
    "                \n",
    "    def income_per_month(self,client_id):\n",
    "        \"\"\"  Function to return the average of the income per month of a client.\n",
    "    \"        \n",
    "    \"        Args:\n",
    "    \"            client_id (int) represents client identification.\n",
    "    \"            \n",
    "    \"        Returns:\n",
    "    \"            float: The client's balance / month.\n",
    "    \"            \n",
    "    \"        \"\"\"\n",
    "        # The difference btween the client's join date and the current date.\n",
    "        day = datetime.datetime.now()- self.joindate2[client_id]\n",
    "        \n",
    "        return self.balance[client_id] / (day.seconds/60)\n",
    "    \n",
    "    def interest(self):\n",
    "        \"\"\"  Function to calculate the balance's interest based on the account_category.\n",
    "    \"        \n",
    "    \"        Args:\n",
    "    \"            None\n",
    "    \"            \n",
    "    \"        Returns:\n",
    "    \"            None\n",
    "    \"            \n",
    "    \"        \"\"\"\n",
    "        self.set_account_category()\n",
    "        \n",
    "        # Check for each client account type and add to the balance an interest based on the account_category.\n",
    "        for i in self.client_id:\n",
    "            if self.account_category[i] == \"Premium\":\n",
    "                self.balance[i] += self.balance[i] * 0.06\n",
    "            else:\n",
    "                self.balance[i] += self.balance[i] * 0.03\n",
    "\n",
    "    def charge(self):\n",
    "        \"\"\"  Function to calculate the charges applied on the account based on the client_category.\n",
    "    \"        \n",
    "    \"        Args:\n",
    "    \"            None\n",
    "    \"            \n",
    "    \"        Returns:\n",
    "    \"            None\n",
    "    \"            \n",
    "    \"        \"\"\"\n",
    "        self.set_client_category()\n",
    "        \n",
    "        # Check for each client client type and charge the balance based on the client_category.\n",
    "        for i in self.client_id:\n",
    "            if self.client_category[i] == \"Junior\":\n",
    "                self.balance[i] -= 0\n",
    "            elif self.client_category[i] == \"Regular\":\n",
    "                self.balance[i] -= 30\n",
    "            else:\n",
    "                self.balance[i] -= 0\n",
    "                \n"
   ]
  },
  {
   "cell_type": "code",
   "execution_count": 19,
   "metadata": {},
   "outputs": [],
   "source": [
    "import pandas as pd\n",
    "import datetime\n",
    "import seaborn as sns\n",
    "import numpy as np\n",
    "from sklearn.linear_model import LinearRegression\n",
    "import matplotlib.pyplot as plt\n",
    "\n",
    "class Exporter(Account):\n",
    "    \"\"\" Class to create dataframes if clients, export them and create graphs\n",
    "    \"        \n",
    "    \"        Attributes:\n",
    "    \"            client_name (string) represents clients name.\n",
    "    \"            age (int) represents client's age.\n",
    "    \"            balance (float) represents client's initially balance.\n",
    "    \"            client_id (int) represents client identification.\n",
    "    \"            client_joindate (datetime) represent time when the client account was created with established format Y/M/D.\n",
    "    \"            client_joindate2 (datetime) represent time when the client account was created in days.\n",
    "    \"            account_category (list of strings) represents the kind of account depending on the account time.\n",
    "    \"            client_category (list of strings) represents the type of client depending on their age.\n",
    "    \"            \n",
    "    \"         \"\"\"\n",
    "    def create_dataframe(self):\n",
    "        \"\"\"  Function to create a dataframe from the previously added clients.\n",
    "    \"        \n",
    "    \"        Args:\n",
    "    \"            None\n",
    "    \"            \n",
    "    \"        Returns:\n",
    "    \"            dataframe: A Data Frame containing client's data.\n",
    "    \"            \n",
    "    \"        \"\"\"\n",
    "        df = pd.DataFrame([self.client_id,self.client_name,self.age,self.balance,self.joindate,self.client_category,self.account_category]).T\n",
    "        df.columns = [\"client_id\",\"client_name\",\"age\",\"balance\",\"joindate\",\"client_category\",\"account_category\"]\n",
    "        df.index = self.client_id\n",
    "        return df\n",
    "        \n",
    "    def LM(self):\n",
    "        \"\"\"  Function to create Linear Regression Model and return a graph containing the Linear model distribution.\n",
    "    \"        \n",
    "    \"        Args:\n",
    "    \"            None\n",
    "    \"            \n",
    "    \"        Returns:\n",
    "    \"            None\n",
    "    \"            \n",
    "    \"        \"\"\"\n",
    "        # Use function to create a cleint Data Frame.\n",
    "        df = self.create_dataframe()\n",
    "        \n",
    "        # create a list of predicitons\n",
    "        predictions= []\n",
    "        \n",
    "        # set X and Y axes using the Age and Balance columns from the data frame.\n",
    "        x = df[[\"age\"]]\n",
    "        y = df[[\"balance\"]]\n",
    "        \n",
    "        # create a Linear Regression Model and fit it with the data.\n",
    "        model = LinearRegression()\n",
    "        model.fit(x,y)\n",
    "        \n",
    "        # Add to the list of predictions the model balance predictions for each client age.\n",
    "        for z in self.age:\n",
    "            predictions.append(model.intercept_ + (model.coef_ * z))\n",
    "        \n",
    "        # plot the results.\n",
    "        plt.scatter(self.age,self.balance)\n",
    "        plt.plot(np.array(self.age).reshape(-1,1),np.array(predictions).reshape(-1,1), c=\"r\")\n",
    "        plt.xlabel(\"Age\")\n",
    "        plt.ylabel(\"Balance\")\n",
    "        plt.title(\"Linear Regression AGE vs Salary\")\n",
    "        plt.legend([\"Linear Regression\",\"Data\"])   \n",
    "    "
   ]
  },
  {
   "cell_type": "code",
   "execution_count": 1620,
   "metadata": {},
   "outputs": [
    {
     "data": {
      "text/plain": [
       "' class Client:\\n    def __init__(self,client_id,client_name ,age,balance):\\n        self.client_id = client_id\\n        self.client_name = client_name\\n        self.age = age\\n        self.balance = balance\\n        \\n    def add_client(self,client_name,age):\\n        self.client_id += 1\\n        self.client_name = client_name\\n        self.age = age\\n\\n    def add_balance(self,balance):\\n        self.balance += balance'"
      ]
     },
     "execution_count": 1620,
     "metadata": {},
     "output_type": "execute_result"
    }
   ],
   "source": [
    "\"\"\" class Client:\n",
    "    def __init__(self,client_id,client_name ,age,balance):\n",
    "        self.client_id = client_id\n",
    "        self.client_name = client_name\n",
    "        self.age = age\n",
    "        self.balance = balance\n",
    "        \n",
    "    def add_client(self,client_name,age):\n",
    "        self.client_id += 1\n",
    "        self.client_name = client_name\n",
    "        self.age = age\n",
    "\n",
    "    def add_balance(self,balance):\n",
    "        self.balance += balance\"\"\""
   ]
  },
  {
   "cell_type": "code",
   "execution_count": 1634,
   "metadata": {},
   "outputs": [],
   "source": [
    "acc = Exporter()"
   ]
  },
  {
   "cell_type": "code",
   "execution_count": 1635,
   "metadata": {},
   "outputs": [],
   "source": [
    "acc.read_csv(\"C:/Users/bpizzanimendoza/Desktop/Nanodegree/other proj/client_list.csv\")"
   ]
  },
  {
   "cell_type": "code",
   "execution_count": 1636,
   "metadata": {},
   "outputs": [
    {
     "data": {
      "text/plain": [
       "[datetime.datetime(2020, 8, 17, 19, 24, 21, 657287),\n",
       " datetime.datetime(2020, 8, 17, 19, 24, 21, 657287),\n",
       " datetime.datetime(2020, 8, 17, 19, 24, 21, 657287),\n",
       " datetime.datetime(2020, 8, 17, 19, 24, 21, 657287),\n",
       " datetime.datetime(2020, 8, 17, 19, 24, 21, 657287),\n",
       " datetime.datetime(2020, 8, 17, 19, 24, 21, 657287)]"
      ]
     },
     "execution_count": 1636,
     "metadata": {},
     "output_type": "execute_result"
    }
   ],
   "source": [
    "acc.age\n",
    "\n",
    "acc.client_id\n",
    "acc.joindate2"
   ]
  },
  {
   "cell_type": "code",
   "execution_count": 1637,
   "metadata": {},
   "outputs": [
    {
     "data": {
      "text/plain": [
       "['Bruno', 'Vanessa', 'Franco', 'Cristina', 'David', 'Marta']"
      ]
     },
     "execution_count": 1637,
     "metadata": {},
     "output_type": "execute_result"
    }
   ],
   "source": [
    "acc.client_name"
   ]
  },
  {
   "cell_type": "code",
   "execution_count": 1638,
   "metadata": {},
   "outputs": [],
   "source": [
    "acc.add_client(\"Bruno\",27,9000)\n",
    "acc.add_client(\"Franco\",30,12000)\n",
    "acc.add_client(\"Cris\",50,13000)\n",
    "acc.add_client(\"Marta\",20,7000)\n",
    "acc.add_client(\"David\",40,20000)\n"
   ]
  },
  {
   "cell_type": "code",
   "execution_count": 1639,
   "metadata": {},
   "outputs": [],
   "source": [
    "acc.add_client(\"Joe\",55,20000)"
   ]
  },
  {
   "cell_type": "code",
   "execution_count": 1640,
   "metadata": {},
   "outputs": [
    {
     "name": "stdout",
     "output_type": "stream",
     "text": [
      "['Bruno', 'Vanessa', 'Franco', 'Cristina', 'David', 'Marta', 'Bruno', 'Franco', 'Cris', 'Marta', 'David', 'Joe']\n",
      "[27, 30, 31, 56, 46, 22, 27, 30, 50, 20, 40, 55]\n",
      "[0, 1, 2, 3, 4, 5, 6, 7, 8, 9, 10, 11]\n",
      "['2020-08-17 19:24:21', '2020-08-17 19:24:21', '2020-08-17 19:24:21', '2020-08-17 19:24:21', '2020-08-17 19:24:21', '2020-08-17 19:24:21', '2020-08-17 19:24:21', '2020-08-17 19:24:21', '2020-08-17 19:24:21', '2020-08-17 19:24:21', '2020-08-17 19:24:21', '2020-08-17 19:24:21']\n",
      "[9000, 10000, 14000, 12000, 20000, 4000, 9000, 12000, 13000, 7000, 20000, 20000]\n"
     ]
    }
   ],
   "source": [
    "print(acc.client_name)\n",
    "print(acc.age)\n",
    "print(acc.client_id)\n",
    "print(acc.joindate)\n",
    "print(acc.balance)"
   ]
  },
  {
   "cell_type": "code",
   "execution_count": 1641,
   "metadata": {},
   "outputs": [],
   "source": [
    "acc.add_balance(1,20)"
   ]
  },
  {
   "cell_type": "code",
   "execution_count": 1642,
   "metadata": {},
   "outputs": [
    {
     "data": {
      "text/plain": [
       "18787.5"
      ]
     },
     "execution_count": 1642,
     "metadata": {},
     "output_type": "execute_result"
    }
   ],
   "source": [
    "acc.income_per_month(1)"
   ]
  },
  {
   "cell_type": "code",
   "execution_count": 1643,
   "metadata": {},
   "outputs": [],
   "source": [
    "acc.interest()"
   ]
  },
  {
   "cell_type": "code",
   "execution_count": 1644,
   "metadata": {},
   "outputs": [],
   "source": [
    "acc.charge()"
   ]
  },
  {
   "cell_type": "code",
   "execution_count": 1645,
   "metadata": {},
   "outputs": [
    {
     "data": {
      "text/html": [
       "<div>\n",
       "<style scoped>\n",
       "    .dataframe tbody tr th:only-of-type {\n",
       "        vertical-align: middle;\n",
       "    }\n",
       "\n",
       "    .dataframe tbody tr th {\n",
       "        vertical-align: top;\n",
       "    }\n",
       "\n",
       "    .dataframe thead th {\n",
       "        text-align: right;\n",
       "    }\n",
       "</style>\n",
       "<table border=\"1\" class=\"dataframe\">\n",
       "  <thead>\n",
       "    <tr style=\"text-align: right;\">\n",
       "      <th></th>\n",
       "      <th>client_id</th>\n",
       "      <th>client_name</th>\n",
       "      <th>age</th>\n",
       "      <th>balance</th>\n",
       "      <th>joindate</th>\n",
       "      <th>client_category</th>\n",
       "      <th>account_category</th>\n",
       "    </tr>\n",
       "  </thead>\n",
       "  <tbody>\n",
       "    <tr>\n",
       "      <td>0</td>\n",
       "      <td>0</td>\n",
       "      <td>Bruno</td>\n",
       "      <td>27</td>\n",
       "      <td>9240</td>\n",
       "      <td>2020-08-17 19:24:21</td>\n",
       "      <td>Regular</td>\n",
       "      <td>Standard</td>\n",
       "    </tr>\n",
       "    <tr>\n",
       "      <td>1</td>\n",
       "      <td>1</td>\n",
       "      <td>Vanessa</td>\n",
       "      <td>30</td>\n",
       "      <td>10290.6</td>\n",
       "      <td>2020-08-17 19:24:21</td>\n",
       "      <td>Regular</td>\n",
       "      <td>Standard</td>\n",
       "    </tr>\n",
       "    <tr>\n",
       "      <td>2</td>\n",
       "      <td>2</td>\n",
       "      <td>Franco</td>\n",
       "      <td>31</td>\n",
       "      <td>14390</td>\n",
       "      <td>2020-08-17 19:24:21</td>\n",
       "      <td>Regular</td>\n",
       "      <td>Standard</td>\n",
       "    </tr>\n",
       "    <tr>\n",
       "      <td>3</td>\n",
       "      <td>3</td>\n",
       "      <td>Cristina</td>\n",
       "      <td>56</td>\n",
       "      <td>12360</td>\n",
       "      <td>2020-08-17 19:24:21</td>\n",
       "      <td>Senior</td>\n",
       "      <td>Standard</td>\n",
       "    </tr>\n",
       "    <tr>\n",
       "      <td>4</td>\n",
       "      <td>4</td>\n",
       "      <td>David</td>\n",
       "      <td>46</td>\n",
       "      <td>20570</td>\n",
       "      <td>2020-08-17 19:24:21</td>\n",
       "      <td>Regular</td>\n",
       "      <td>Standard</td>\n",
       "    </tr>\n",
       "    <tr>\n",
       "      <td>5</td>\n",
       "      <td>5</td>\n",
       "      <td>Marta</td>\n",
       "      <td>22</td>\n",
       "      <td>4120</td>\n",
       "      <td>2020-08-17 19:24:21</td>\n",
       "      <td>Junior</td>\n",
       "      <td>Standard</td>\n",
       "    </tr>\n",
       "    <tr>\n",
       "      <td>6</td>\n",
       "      <td>6</td>\n",
       "      <td>Bruno</td>\n",
       "      <td>27</td>\n",
       "      <td>9240</td>\n",
       "      <td>2020-08-17 19:24:21</td>\n",
       "      <td>Regular</td>\n",
       "      <td>Standard</td>\n",
       "    </tr>\n",
       "    <tr>\n",
       "      <td>7</td>\n",
       "      <td>7</td>\n",
       "      <td>Franco</td>\n",
       "      <td>30</td>\n",
       "      <td>12330</td>\n",
       "      <td>2020-08-17 19:24:21</td>\n",
       "      <td>Regular</td>\n",
       "      <td>Standard</td>\n",
       "    </tr>\n",
       "    <tr>\n",
       "      <td>8</td>\n",
       "      <td>8</td>\n",
       "      <td>Cris</td>\n",
       "      <td>50</td>\n",
       "      <td>13360</td>\n",
       "      <td>2020-08-17 19:24:21</td>\n",
       "      <td>Regular</td>\n",
       "      <td>Standard</td>\n",
       "    </tr>\n",
       "    <tr>\n",
       "      <td>9</td>\n",
       "      <td>9</td>\n",
       "      <td>Marta</td>\n",
       "      <td>20</td>\n",
       "      <td>7210</td>\n",
       "      <td>2020-08-17 19:24:21</td>\n",
       "      <td>Junior</td>\n",
       "      <td>Standard</td>\n",
       "    </tr>\n",
       "    <tr>\n",
       "      <td>10</td>\n",
       "      <td>10</td>\n",
       "      <td>David</td>\n",
       "      <td>40</td>\n",
       "      <td>20570</td>\n",
       "      <td>2020-08-17 19:24:21</td>\n",
       "      <td>Regular</td>\n",
       "      <td>Standard</td>\n",
       "    </tr>\n",
       "    <tr>\n",
       "      <td>11</td>\n",
       "      <td>11</td>\n",
       "      <td>Joe</td>\n",
       "      <td>55</td>\n",
       "      <td>20600</td>\n",
       "      <td>2020-08-17 19:24:21</td>\n",
       "      <td>Senior</td>\n",
       "      <td>Standard</td>\n",
       "    </tr>\n",
       "  </tbody>\n",
       "</table>\n",
       "</div>"
      ],
      "text/plain": [
       "   client_id client_name age  balance             joindate client_category  \\\n",
       "0          0       Bruno  27     9240  2020-08-17 19:24:21         Regular   \n",
       "1          1     Vanessa  30  10290.6  2020-08-17 19:24:21         Regular   \n",
       "2          2      Franco  31    14390  2020-08-17 19:24:21         Regular   \n",
       "3          3    Cristina  56    12360  2020-08-17 19:24:21          Senior   \n",
       "4          4       David  46    20570  2020-08-17 19:24:21         Regular   \n",
       "5          5       Marta  22     4120  2020-08-17 19:24:21          Junior   \n",
       "6          6       Bruno  27     9240  2020-08-17 19:24:21         Regular   \n",
       "7          7      Franco  30    12330  2020-08-17 19:24:21         Regular   \n",
       "8          8        Cris  50    13360  2020-08-17 19:24:21         Regular   \n",
       "9          9       Marta  20     7210  2020-08-17 19:24:21          Junior   \n",
       "10        10       David  40    20570  2020-08-17 19:24:21         Regular   \n",
       "11        11         Joe  55    20600  2020-08-17 19:24:21          Senior   \n",
       "\n",
       "   account_category  \n",
       "0          Standard  \n",
       "1          Standard  \n",
       "2          Standard  \n",
       "3          Standard  \n",
       "4          Standard  \n",
       "5          Standard  \n",
       "6          Standard  \n",
       "7          Standard  \n",
       "8          Standard  \n",
       "9          Standard  \n",
       "10         Standard  \n",
       "11         Standard  "
      ]
     },
     "execution_count": 1645,
     "metadata": {},
     "output_type": "execute_result"
    }
   ],
   "source": [
    "acc.create_dataframe()"
   ]
  },
  {
   "cell_type": "code",
   "execution_count": 1646,
   "metadata": {},
   "outputs": [
    {
     "data": {
      "text/plain": [
       "[0, 1, 2, 3, 4, 5, 6, 7, 8, 9, 10, 11]"
      ]
     },
     "execution_count": 1646,
     "metadata": {},
     "output_type": "execute_result"
    }
   ],
   "source": [
    "acc.client_id"
   ]
  },
  {
   "cell_type": "code",
   "execution_count": 1647,
   "metadata": {},
   "outputs": [
    {
     "data": {
      "image/png": "[encoded data removed]",
      "text/plain": [
       "<Figure size 432x288 with 1 Axes>"
      ]
     },
     "metadata": {
      "needs_background": "light"
     },
     "output_type": "display_data"
    }
   ],
   "source": [
    "acc.LM()"
   ]
  },
  {
   "cell_type": "code",
   "execution_count": 1580,
   "metadata": {},
   "outputs": [
    {
     "data": {
      "text/plain": [
       "<matplotlib.legend.Legend at 0x22fcc2c9f88>"
      ]
     },
     "execution_count": 1580,
     "metadata": {},
     "output_type": "execute_result"
    },
    {
     "data": {
      "image/png": "[encoded data removed]",
      "text/plain": [
       "<Figure size 432x288 with 1 Axes>"
      ]
     },
     "metadata": {
      "needs_background": "light"
     },
     "output_type": "display_data"
    }
   ],
   "source": [
    "predictions= []\n",
    "for z in acc.age:\n",
    "    predictions.append(model.intercept_ + (model.coef_ * z))\n",
    "plt.scatter(acc.age,acc.balance)\n",
    "plt.plot(np.array(acc.age).reshape(-1,1),np.array(predictions).reshape(-1,1),c=\"r\")\n",
    "plt.xlabel(\"Age\")\n",
    "plt.ylabel(\"Balance\")\n",
    "plt.title(\"Linear Regression AGE vs Salary\")\n",
    "plt.legend([\"Linear Regression\",\"Data\"])"
   ]
  },
  {
   "cell_type": "code",
   "execution_count": null,
   "metadata": {},
   "outputs": [],
   "source": []
  },
  {
   "cell_type": "code",
   "execution_count": null,
   "metadata": {},
   "outputs": [],
   "source": []
  }
 ],
 "metadata": {
  "kernelspec": {
   "display_name": "Python 3",
   "language": "python",
   "name": "python3"
  },
  "language_info": {
   "codemirror_mode": {
    "name": "ipython",
    "version": 3
   },
   "file_extension": ".py",
   "mimetype": "text/x-python",
   "name": "python",
   "nbconvert_exporter": "python",
   "pygments_lexer": "ipython3",
   "version": "3.7.4"
  }
 },
 "nbformat": 4,
 "nbformat_minor": 2
}
